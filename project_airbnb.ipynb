{
 "cells": [
  {
   "cell_type": "code",
   "execution_count": 1,
   "metadata": {},
   "outputs": [],
   "source": [
    "# importing needed packages\n",
    "import pandas as pd\n",
    "import nltk\n",
    "import numpy as np\n",
    "from sklearn.feature_extraction.text import CountVectorizer\n",
    "from nltk.tokenize import word_tokenize\n",
    "from nltk.corpus import stopwords\n",
    "import seaborn as sns\n",
    "from matplotlib import pyplot\n",
    "import warnings\n",
    "from sklearn.metrics.pairwise import cosine_similarity\n",
    "import matplotlib.pyplot as plt\n",
    "from sklearn.manifold import MDS\n",
    "from vaderSentiment.vaderSentiment import SentimentIntensityAnalyzer\n",
    "from nltk.probability import FreqDist\n",
    "import spacy\n",
    "import en_core_web_sm\n",
    "import itertools"
   ]
  },
  {
   "cell_type": "markdown",
   "metadata": {},
   "source": [
    "# Business understanding\n",
    "\n",
    "If you are a host on AirBnB and you wanna be successful in renting your apartment, you need to know what other hosts  offer on the platform and what exactly guests value in other apartments. One of the best sources of information helping to answer these questions is the website [Inside AirBnB](http://insideairbnb.com/get-the-data.html), which gives access to text descriptions written by hosts and guests' reviews. The following notebook shows how you can conduct text analysis of the descriptions and reviews on AirBnB to extract useful knowledge that could help to adjust an apartment description on AirBnB to the needs of potential guests and to more effectively compete with other hosts.\n",
    "\n",
    "The questions, I am going to answer in this notebook, are:\n",
    "\n",
    "- How different Berlin districts based on the text descriptions from AirBnB? \n",
    "\n",
    "- What are the distinctive words for the descriptions of apartments from different districts?\n",
    "\n",
    "- What do guests of the apartments in these districts like the most?"
   ]
  },
  {
   "cell_type": "markdown",
   "metadata": {},
   "source": [
    "# Data understanding\n",
    "\n",
    "Before delving into text analysis, we need to explore the datasets we are going to use. \n",
    "\n",
    "The first dataset (listings) contains all the information from the reviews of Berlin apartments. In this dataset, you can find text descriptions of the apartments, cancellation policies, number of rooms, prices, etc."
   ]
  },
  {
   "cell_type": "code",
   "execution_count": 119,
   "metadata": {},
   "outputs": [],
   "source": [
    "listings = pd.read_csv('./data/listings.csv')"
   ]
  },
  {
   "cell_type": "code",
   "execution_count": 39,
   "metadata": {
    "scrolled": true
   },
   "outputs": [
    {
     "data": {
      "text/html": [
       "<div>\n",
       "<style scoped>\n",
       "    .dataframe tbody tr th:only-of-type {\n",
       "        vertical-align: middle;\n",
       "    }\n",
       "\n",
       "    .dataframe tbody tr th {\n",
       "        vertical-align: top;\n",
       "    }\n",
       "\n",
       "    .dataframe thead th {\n",
       "        text-align: right;\n",
       "    }\n",
       "</style>\n",
       "<table border=\"1\" class=\"dataframe\">\n",
       "  <thead>\n",
       "    <tr style=\"text-align: right;\">\n",
       "      <th></th>\n",
       "      <th>id</th>\n",
       "      <th>listing_url</th>\n",
       "      <th>scrape_id</th>\n",
       "      <th>last_scraped</th>\n",
       "      <th>name</th>\n",
       "      <th>summary</th>\n",
       "      <th>space</th>\n",
       "      <th>description</th>\n",
       "      <th>experiences_offered</th>\n",
       "      <th>neighborhood_overview</th>\n",
       "      <th>...</th>\n",
       "      <th>instant_bookable</th>\n",
       "      <th>is_business_travel_ready</th>\n",
       "      <th>cancellation_policy</th>\n",
       "      <th>require_guest_profile_picture</th>\n",
       "      <th>require_guest_phone_verification</th>\n",
       "      <th>calculated_host_listings_count</th>\n",
       "      <th>calculated_host_listings_count_entire_homes</th>\n",
       "      <th>calculated_host_listings_count_private_rooms</th>\n",
       "      <th>calculated_host_listings_count_shared_rooms</th>\n",
       "      <th>reviews_per_month</th>\n",
       "    </tr>\n",
       "  </thead>\n",
       "  <tbody>\n",
       "    <tr>\n",
       "      <th>0</th>\n",
       "      <td>1944</td>\n",
       "      <td>https://www.airbnb.com/rooms/1944</td>\n",
       "      <td>20190711004031</td>\n",
       "      <td>2019-07-11</td>\n",
       "      <td>cafeheaven Pberg/Mitte/Wed for the summer 2019</td>\n",
       "      <td>Private, bright and friendly room. You'd be sh...</td>\n",
       "      <td>The room is very large, private, cozy, bright,...</td>\n",
       "      <td>Private, bright and friendly room. You'd be sh...</td>\n",
       "      <td>none</td>\n",
       "      <td>near all the trendy cafés and flea markets and...</td>\n",
       "      <td>...</td>\n",
       "      <td>f</td>\n",
       "      <td>f</td>\n",
       "      <td>moderate</td>\n",
       "      <td>f</td>\n",
       "      <td>f</td>\n",
       "      <td>1</td>\n",
       "      <td>0</td>\n",
       "      <td>1</td>\n",
       "      <td>0</td>\n",
       "      <td>0.25</td>\n",
       "    </tr>\n",
       "  </tbody>\n",
       "</table>\n",
       "<p>1 rows × 106 columns</p>\n",
       "</div>"
      ],
      "text/plain": [
       "     id                        listing_url       scrape_id last_scraped  \\\n",
       "0  1944  https://www.airbnb.com/rooms/1944  20190711004031   2019-07-11   \n",
       "\n",
       "                                             name  \\\n",
       "0  cafeheaven Pberg/Mitte/Wed for the summer 2019   \n",
       "\n",
       "                                             summary  \\\n",
       "0  Private, bright and friendly room. You'd be sh...   \n",
       "\n",
       "                                               space  \\\n",
       "0  The room is very large, private, cozy, bright,...   \n",
       "\n",
       "                                         description experiences_offered  \\\n",
       "0  Private, bright and friendly room. You'd be sh...                none   \n",
       "\n",
       "                               neighborhood_overview  ... instant_bookable  \\\n",
       "0  near all the trendy cafés and flea markets and...  ...                f   \n",
       "\n",
       "  is_business_travel_ready cancellation_policy require_guest_profile_picture  \\\n",
       "0                        f            moderate                             f   \n",
       "\n",
       "  require_guest_phone_verification  calculated_host_listings_count  \\\n",
       "0                                f                               1   \n",
       "\n",
       "   calculated_host_listings_count_entire_homes  \\\n",
       "0                                            0   \n",
       "\n",
       "  calculated_host_listings_count_private_rooms  \\\n",
       "0                                            1   \n",
       "\n",
       "   calculated_host_listings_count_shared_rooms  reviews_per_month  \n",
       "0                                            0               0.25  \n",
       "\n",
       "[1 rows x 106 columns]"
      ]
     },
     "execution_count": 39,
     "metadata": {},
     "output_type": "execute_result"
    }
   ],
   "source": [
    "listings.head(1)"
   ]
  },
  {
   "cell_type": "code",
   "execution_count": 40,
   "metadata": {},
   "outputs": [
    {
     "data": {
      "text/plain": [
       "(24395, 106)"
      ]
     },
     "execution_count": 40,
     "metadata": {},
     "output_type": "execute_result"
    }
   ],
   "source": [
    "listings.shape"
   ]
  },
  {
   "cell_type": "markdown",
   "metadata": {},
   "source": [
    "As we can see, most of the apartments on AirBnB are located in the central districts (neighboourhood groups) located close to main tourist attractions, bars, restaurants, and clubs. Residents of Berlin, living not so close to the centre, more rarely offer their places for renting on AirBnB."
   ]
  },
  {
   "cell_type": "code",
   "execution_count": 41,
   "metadata": {
    "scrolled": true
   },
   "outputs": [
    {
     "data": {
      "text/plain": [
       "Friedrichshain-Kreuzberg    5854\n",
       "Mitte                       5082\n",
       "Pankow                      3818\n",
       "Neukölln                    3753\n",
       "Charlottenburg-Wilm.        1766\n",
       "Tempelhof - Schöneberg      1610\n",
       "Lichtenberg                  792\n",
       "Treptow - Köpenick           647\n",
       "Steglitz - Zehlendorf        489\n",
       "Reinickendorf                304\n",
       "Marzahn - Hellersdorf        142\n",
       "Spandau                      138\n",
       "Name: neighbourhood_group_cleansed, dtype: int64"
      ]
     },
     "execution_count": 41,
     "metadata": {},
     "output_type": "execute_result"
    }
   ],
   "source": [
    "listings['neighbourhood_group_cleansed'].value_counts()"
   ]
  },
  {
   "cell_type": "markdown",
   "metadata": {},
   "source": [
    "Based on the calculated standard deviations, we can see that the most of the districts have very high spread of prices (in \\\\$ per night). It means that prices vary significantly in the districts, and, in most of the them, people with very different budgets can find a place for living. By comparing mean and median values, we also can say that mean prices are skewed to positive side. It means that the districts have some outlying apartments with very high prices. Looking at medians, we can say that for most of the districts, normal price per night is 40-50 $. The cheapest apartments can be found in Reinickendord and Spandau. The highest median price relates to Pankow. \n",
    "\n",
    "Looking at the median numbers of reviews, we can see that that, normally, one apartment gets 3-5 reviews. Interesting finding is that the district Marzahn - Hellersdorf (which is marginalised in media for having negative attitudes towards migrants) has the highest number of reviews. \n",
    "\n",
    "Speaking about aggregated reviews scores, this measure is not very useful for us; the districts have very similar scores according to it."
   ]
  },
  {
   "cell_type": "code",
   "execution_count": 120,
   "metadata": {},
   "outputs": [
    {
     "data": {
      "text/html": [
       "<div>\n",
       "<style scoped>\n",
       "    .dataframe tbody tr th:only-of-type {\n",
       "        vertical-align: middle;\n",
       "    }\n",
       "\n",
       "    .dataframe tbody tr th {\n",
       "        vertical-align: top;\n",
       "    }\n",
       "\n",
       "    .dataframe thead tr th {\n",
       "        text-align: left;\n",
       "    }\n",
       "\n",
       "    .dataframe thead tr:last-of-type th {\n",
       "        text-align: right;\n",
       "    }\n",
       "</style>\n",
       "<table border=\"1\" class=\"dataframe\">\n",
       "  <thead>\n",
       "    <tr>\n",
       "      <th></th>\n",
       "      <th colspan=\"3\" halign=\"left\">price</th>\n",
       "      <th colspan=\"3\" halign=\"left\">number_of_reviews</th>\n",
       "      <th colspan=\"3\" halign=\"left\">review_scores_rating</th>\n",
       "    </tr>\n",
       "    <tr>\n",
       "      <th></th>\n",
       "      <th>mean</th>\n",
       "      <th>std</th>\n",
       "      <th>median</th>\n",
       "      <th>mean</th>\n",
       "      <th>std</th>\n",
       "      <th>median</th>\n",
       "      <th>mean</th>\n",
       "      <th>std</th>\n",
       "      <th>median</th>\n",
       "    </tr>\n",
       "    <tr>\n",
       "      <th>neighbourhood_group_cleansed</th>\n",
       "      <th></th>\n",
       "      <th></th>\n",
       "      <th></th>\n",
       "      <th></th>\n",
       "      <th></th>\n",
       "      <th></th>\n",
       "      <th></th>\n",
       "      <th></th>\n",
       "      <th></th>\n",
       "    </tr>\n",
       "  </thead>\n",
       "  <tbody>\n",
       "    <tr>\n",
       "      <th>Charlottenburg-Wilm.</th>\n",
       "      <td>109.463760</td>\n",
       "      <td>497.318718</td>\n",
       "      <td>50.0</td>\n",
       "      <td>20.184598</td>\n",
       "      <td>38.563805</td>\n",
       "      <td>4.5</td>\n",
       "      <td>94.370096</td>\n",
       "      <td>7.423733</td>\n",
       "      <td>97.0</td>\n",
       "    </tr>\n",
       "    <tr>\n",
       "      <th>Friedrichshain-Kreuzberg</th>\n",
       "      <td>65.167578</td>\n",
       "      <td>130.510982</td>\n",
       "      <td>50.0</td>\n",
       "      <td>18.974376</td>\n",
       "      <td>40.625509</td>\n",
       "      <td>4.0</td>\n",
       "      <td>94.821046</td>\n",
       "      <td>7.632768</td>\n",
       "      <td>97.0</td>\n",
       "    </tr>\n",
       "    <tr>\n",
       "      <th>Lichtenberg</th>\n",
       "      <td>66.103535</td>\n",
       "      <td>335.172430</td>\n",
       "      <td>40.0</td>\n",
       "      <td>15.023990</td>\n",
       "      <td>31.201854</td>\n",
       "      <td>4.0</td>\n",
       "      <td>93.795341</td>\n",
       "      <td>10.067756</td>\n",
       "      <td>97.0</td>\n",
       "    </tr>\n",
       "    <tr>\n",
       "      <th>Marzahn - Hellersdorf</th>\n",
       "      <td>61.422535</td>\n",
       "      <td>56.695069</td>\n",
       "      <td>50.0</td>\n",
       "      <td>20.112676</td>\n",
       "      <td>30.564917</td>\n",
       "      <td>8.5</td>\n",
       "      <td>94.918182</td>\n",
       "      <td>6.352247</td>\n",
       "      <td>97.0</td>\n",
       "    </tr>\n",
       "    <tr>\n",
       "      <th>Mitte</th>\n",
       "      <td>75.461629</td>\n",
       "      <td>102.903209</td>\n",
       "      <td>50.0</td>\n",
       "      <td>24.510232</td>\n",
       "      <td>50.143989</td>\n",
       "      <td>5.0</td>\n",
       "      <td>93.966438</td>\n",
       "      <td>8.007017</td>\n",
       "      <td>96.0</td>\n",
       "    </tr>\n",
       "    <tr>\n",
       "      <th>Neukölln</th>\n",
       "      <td>49.185718</td>\n",
       "      <td>35.080244</td>\n",
       "      <td>40.0</td>\n",
       "      <td>14.394085</td>\n",
       "      <td>32.958097</td>\n",
       "      <td>4.0</td>\n",
       "      <td>95.009735</td>\n",
       "      <td>6.982967</td>\n",
       "      <td>97.0</td>\n",
       "    </tr>\n",
       "    <tr>\n",
       "      <th>Pankow</th>\n",
       "      <td>72.893662</td>\n",
       "      <td>136.625755</td>\n",
       "      <td>55.0</td>\n",
       "      <td>22.047407</td>\n",
       "      <td>45.827742</td>\n",
       "      <td>5.0</td>\n",
       "      <td>95.059755</td>\n",
       "      <td>6.778612</td>\n",
       "      <td>97.0</td>\n",
       "    </tr>\n",
       "    <tr>\n",
       "      <th>Reinickendorf</th>\n",
       "      <td>46.605263</td>\n",
       "      <td>34.277004</td>\n",
       "      <td>36.5</td>\n",
       "      <td>18.779605</td>\n",
       "      <td>36.696068</td>\n",
       "      <td>5.0</td>\n",
       "      <td>94.548246</td>\n",
       "      <td>7.143115</td>\n",
       "      <td>97.0</td>\n",
       "    </tr>\n",
       "    <tr>\n",
       "      <th>Spandau</th>\n",
       "      <td>59.826087</td>\n",
       "      <td>53.577546</td>\n",
       "      <td>38.5</td>\n",
       "      <td>14.050725</td>\n",
       "      <td>31.242710</td>\n",
       "      <td>3.0</td>\n",
       "      <td>93.742574</td>\n",
       "      <td>8.570477</td>\n",
       "      <td>97.0</td>\n",
       "    </tr>\n",
       "    <tr>\n",
       "      <th>Steglitz - Zehlendorf</th>\n",
       "      <td>60.364008</td>\n",
       "      <td>66.955013</td>\n",
       "      <td>47.0</td>\n",
       "      <td>14.476483</td>\n",
       "      <td>23.723734</td>\n",
       "      <td>5.0</td>\n",
       "      <td>95.119363</td>\n",
       "      <td>7.567714</td>\n",
       "      <td>98.0</td>\n",
       "    </tr>\n",
       "    <tr>\n",
       "      <th>Tempelhof - Schöneberg</th>\n",
       "      <td>97.655901</td>\n",
       "      <td>470.026127</td>\n",
       "      <td>46.0</td>\n",
       "      <td>19.349068</td>\n",
       "      <td>37.730323</td>\n",
       "      <td>5.0</td>\n",
       "      <td>94.989930</td>\n",
       "      <td>7.236368</td>\n",
       "      <td>97.0</td>\n",
       "    </tr>\n",
       "    <tr>\n",
       "      <th>Treptow - Köpenick</th>\n",
       "      <td>57.024730</td>\n",
       "      <td>47.418491</td>\n",
       "      <td>45.0</td>\n",
       "      <td>14.238022</td>\n",
       "      <td>28.173702</td>\n",
       "      <td>4.0</td>\n",
       "      <td>95.484970</td>\n",
       "      <td>6.083198</td>\n",
       "      <td>98.0</td>\n",
       "    </tr>\n",
       "  </tbody>\n",
       "</table>\n",
       "</div>"
      ],
      "text/plain": [
       "                                   price                    number_of_reviews  \\\n",
       "                                    mean         std median              mean   \n",
       "neighbourhood_group_cleansed                                                    \n",
       "Charlottenburg-Wilm.          109.463760  497.318718   50.0         20.184598   \n",
       "Friedrichshain-Kreuzberg       65.167578  130.510982   50.0         18.974376   \n",
       "Lichtenberg                    66.103535  335.172430   40.0         15.023990   \n",
       "Marzahn - Hellersdorf          61.422535   56.695069   50.0         20.112676   \n",
       "Mitte                          75.461629  102.903209   50.0         24.510232   \n",
       "Neukölln                       49.185718   35.080244   40.0         14.394085   \n",
       "Pankow                         72.893662  136.625755   55.0         22.047407   \n",
       "Reinickendorf                  46.605263   34.277004   36.5         18.779605   \n",
       "Spandau                        59.826087   53.577546   38.5         14.050725   \n",
       "Steglitz - Zehlendorf          60.364008   66.955013   47.0         14.476483   \n",
       "Tempelhof - Schöneberg         97.655901  470.026127   46.0         19.349068   \n",
       "Treptow - Köpenick             57.024730   47.418491   45.0         14.238022   \n",
       "\n",
       "                                               review_scores_rating  \\\n",
       "                                    std median                 mean   \n",
       "neighbourhood_group_cleansed                                          \n",
       "Charlottenburg-Wilm.          38.563805    4.5            94.370096   \n",
       "Friedrichshain-Kreuzberg      40.625509    4.0            94.821046   \n",
       "Lichtenberg                   31.201854    4.0            93.795341   \n",
       "Marzahn - Hellersdorf         30.564917    8.5            94.918182   \n",
       "Mitte                         50.143989    5.0            93.966438   \n",
       "Neukölln                      32.958097    4.0            95.009735   \n",
       "Pankow                        45.827742    5.0            95.059755   \n",
       "Reinickendorf                 36.696068    5.0            94.548246   \n",
       "Spandau                       31.242710    3.0            93.742574   \n",
       "Steglitz - Zehlendorf         23.723734    5.0            95.119363   \n",
       "Tempelhof - Schöneberg        37.730323    5.0            94.989930   \n",
       "Treptow - Köpenick            28.173702    4.0            95.484970   \n",
       "\n",
       "                                                \n",
       "                                    std median  \n",
       "neighbourhood_group_cleansed                    \n",
       "Charlottenburg-Wilm.           7.423733   97.0  \n",
       "Friedrichshain-Kreuzberg       7.632768   97.0  \n",
       "Lichtenberg                   10.067756   97.0  \n",
       "Marzahn - Hellersdorf          6.352247   97.0  \n",
       "Mitte                          8.007017   96.0  \n",
       "Neukölln                       6.982967   97.0  \n",
       "Pankow                         6.778612   97.0  \n",
       "Reinickendorf                  7.143115   97.0  \n",
       "Spandau                        8.570477   97.0  \n",
       "Steglitz - Zehlendorf          7.567714   98.0  \n",
       "Tempelhof - Schöneberg         7.236368   97.0  \n",
       "Treptow - Köpenick             6.083198   98.0  "
      ]
     },
     "execution_count": 120,
     "metadata": {},
     "output_type": "execute_result"
    }
   ],
   "source": [
    "listings['price'] = listings[\"price\"].replace('[^0-9\\\\.]', \"\", regex = True) \n",
    "listings['price'] = pd.to_numeric(listings['price'])\n",
    "listings.groupby('neighbourhood_group_cleansed').agg(\n",
    "    {\n",
    "         'price':['mean', 'std', 'median'],\n",
    "         'number_of_reviews':['mean', 'std', 'median'],\n",
    "         'review_scores_rating':['mean', 'std', 'median']\n",
    "    }\n",
    ")"
   ]
  },
  {
   "cell_type": "markdown",
   "metadata": {},
   "source": [
    "The second dataset we need includes all the reviews, written by guests, for Berlin apartments."
   ]
  },
  {
   "cell_type": "code",
   "execution_count": 121,
   "metadata": {},
   "outputs": [],
   "source": [
    "reviews = pd.read_csv('./data/reviews.csv')"
   ]
  },
  {
   "cell_type": "code",
   "execution_count": 122,
   "metadata": {},
   "outputs": [
    {
     "data": {
      "text/plain": [
       "(479327, 6)"
      ]
     },
     "execution_count": 122,
     "metadata": {},
     "output_type": "execute_result"
    }
   ],
   "source": [
    "reviews.shape"
   ]
  },
  {
   "cell_type": "code",
   "execution_count": 123,
   "metadata": {
    "scrolled": true
   },
   "outputs": [
    {
     "data": {
      "text/html": [
       "<div>\n",
       "<style scoped>\n",
       "    .dataframe tbody tr th:only-of-type {\n",
       "        vertical-align: middle;\n",
       "    }\n",
       "\n",
       "    .dataframe tbody tr th {\n",
       "        vertical-align: top;\n",
       "    }\n",
       "\n",
       "    .dataframe thead th {\n",
       "        text-align: right;\n",
       "    }\n",
       "</style>\n",
       "<table border=\"1\" class=\"dataframe\">\n",
       "  <thead>\n",
       "    <tr style=\"text-align: right;\">\n",
       "      <th></th>\n",
       "      <th>listing_id</th>\n",
       "      <th>id</th>\n",
       "      <th>date</th>\n",
       "      <th>reviewer_id</th>\n",
       "      <th>reviewer_name</th>\n",
       "      <th>comments</th>\n",
       "    </tr>\n",
       "  </thead>\n",
       "  <tbody>\n",
       "    <tr>\n",
       "      <th>0</th>\n",
       "      <td>1944</td>\n",
       "      <td>7126992</td>\n",
       "      <td>2013-09-07</td>\n",
       "      <td>8207524</td>\n",
       "      <td>Mirko</td>\n",
       "      <td>I want to thank Laura&amp;Emiliano for their hospi...</td>\n",
       "    </tr>\n",
       "  </tbody>\n",
       "</table>\n",
       "</div>"
      ],
      "text/plain": [
       "   listing_id       id        date  reviewer_id reviewer_name  \\\n",
       "0        1944  7126992  2013-09-07      8207524         Mirko   \n",
       "\n",
       "                                            comments  \n",
       "0  I want to thank Laura&Emiliano for their hospi...  "
      ]
     },
     "execution_count": 123,
     "metadata": {},
     "output_type": "execute_result"
    }
   ],
   "source": [
    "reviews.head(1)"
   ]
  },
  {
   "cell_type": "markdown",
   "metadata": {},
   "source": [
    "As the dataset with reviews does not have information on the districts, we need to take this information from the listings dataset."
   ]
  },
  {
   "cell_type": "code",
   "execution_count": 124,
   "metadata": {},
   "outputs": [],
   "source": [
    "reviews = pd.merge(reviews, listings[['id', 'neighbourhood_group_cleansed']], how='left', left_on=['listing_id'], right_on=['id'])"
   ]
  },
  {
   "cell_type": "markdown",
   "metadata": {},
   "source": [
    "# Data preparation"
   ]
  },
  {
   "cell_type": "markdown",
   "metadata": {},
   "source": [
    "As I work with the texts in this project, I need to clean them before creating a document-term matrix and calculating different measures. In the case of apartments' descriptions, I kept only English words, removed numbers, punctuation, and stopwords."
   ]
  },
  {
   "cell_type": "code",
   "execution_count": 10,
   "metadata": {},
   "outputs": [
    {
     "name": "stdout",
     "output_type": "stream",
     "text": [
      "showing info https://raw.githubusercontent.com/nltk/nltk_data/gh-pages/index.xml\n"
     ]
    },
    {
     "data": {
      "text/plain": [
       "True"
      ]
     },
     "execution_count": 10,
     "metadata": {},
     "output_type": "execute_result"
    }
   ],
   "source": [
    "nltk.download() # installing all needed data for nltk"
   ]
  },
  {
   "cell_type": "code",
   "execution_count": 138,
   "metadata": {},
   "outputs": [],
   "source": [
    "# replacing all non-English words, numbers, punctuation, stopwords\n",
    "words = set(nltk.corpus.words.words()) # making a list with only English words\n",
    "stop_words=set(stopwords.words(\"english\")) # making a list with stopwords for English language\n",
    "\n",
    "def clean_descriptions(x):\n",
    "    \"\"\"\n",
    "    This function removes all non-English words, numbers, punctuation, stopwords\n",
    "\n",
    "    Arguments:\n",
    "        x: string or Pandas series \n",
    "\n",
    "    Returns:\n",
    "        cleaned string\n",
    "    \"\"\"\n",
    "    return \" \".join(w.lower() for w in nltk.wordpunct_tokenize(x) \\\n",
    "         if w.lower() in words and w.lower() not in stop_words and w.isalpha())\n",
    "\n",
    "listings['description_cleaned'] = listings['description'].apply(lambda x: clean_descriptions(str(x)))\n",
    "\n",
    "listings = listings.dropna(subset=['description_cleaned']) # removing rows having NA in the column with cleaned descriptions"
   ]
  },
  {
   "cell_type": "code",
   "execution_count": 139,
   "metadata": {},
   "outputs": [],
   "source": [
    "# uniting the texts on the base of the neighborhoods\n",
    "\n",
    "listings_agg = listings.groupby('neighbourhood_group_cleansed')['description_cleaned'].apply(lambda x: ''.join(str(list(x)))).reset_index()"
   ]
  },
  {
   "cell_type": "markdown",
   "metadata": {},
   "source": [
    "Guests often mention hosts in reviews, and these names could become distinctive words differentiating one district from another. Such distinctive words are meaningless for us, so we have to remove names."
   ]
  },
  {
   "cell_type": "code",
   "execution_count": 151,
   "metadata": {},
   "outputs": [],
   "source": [
    "# as the dataset is too big, let's work only with two neighbourhoods I decided to explore in the framework of the current study\n",
    "reviews_filtered = reviews[reviews['neighbourhood_group_cleansed'].isin(['Friedrichshain-Kreuzberg', 'Steglitz - Zehlendorf'])]"
   ]
  },
  {
   "cell_type": "code",
   "execution_count": 128,
   "metadata": {},
   "outputs": [],
   "source": [
    "# loading model package that allows to identify entities in texts\n",
    "nlp = en_core_web_sm.load()"
   ]
  },
  {
   "cell_type": "code",
   "execution_count": 133,
   "metadata": {},
   "outputs": [],
   "source": [
    "def names_extractor(x):\n",
    "    \"\"\"\n",
    "    This function extracts names from the texts\n",
    "\n",
    "    Arguments:\n",
    "        x: string or Pandas series\n",
    "\n",
    "    Returns:\n",
    "        list with all names for x\n",
    "    \"\"\"\n",
    "    doc = nlp(x)\n",
    "    entities = [(X.text, X.label_) for X in doc.ents]\n",
    "    names = [t for t in entities if t[1] == 'PERSON']\n",
    "    return [x[0] for x in names]\n",
    "\n",
    "names_nested = reviews_filtered['comments'].apply(lambda x: names_extractor(str(x)))"
   ]
  },
  {
   "cell_type": "code",
   "execution_count": 134,
   "metadata": {},
   "outputs": [],
   "source": [
    "# making flatten list with unqiue names\n",
    "names = [name.lower() for names in list(itertools.chain(names_nested)) for name in names]\n",
    "names = set(names)"
   ]
  },
  {
   "cell_type": "code",
   "execution_count": 136,
   "metadata": {},
   "outputs": [],
   "source": [
    "def clean_reviews(x):\n",
    "    \"\"\"\n",
    "    This function removes all non-English words, numbers, punctuation, stopwords, names\n",
    "\n",
    "    Arguments:\n",
    "        x: string or Pandas series \n",
    "\n",
    "    Returns:\n",
    "        cleaned string\n",
    "    \"\"\"\n",
    "    return \" \".join(w.lower() for w in nltk.wordpunct_tokenize(x) \\\n",
    "         if w.lower() in words and w.lower() not in names and w.lower() not in stop_words and w.isalpha())\n",
    "\n",
    "reviews_filtered['comments_cleaned'] = reviews_filtered['comments'].apply(lambda x: clean_reviews(str(x)))\n",
    "reviews_filtered = reviews_filtered.dropna(subset=['comments_cleaned']) # removing rows with NA in the column with cleaned comments"
   ]
  },
  {
   "cell_type": "markdown",
   "metadata": {},
   "source": [
    "# Data analysis"
   ]
  },
  {
   "cell_type": "markdown",
   "metadata": {},
   "source": [
    "## How different Berlin districts based on the text descriptions from AirBnB?\n",
    "\n",
    "To answer this question, I, first, need to transform text corpus into document-term matrix and, after that, calculate cosine similarity, which would show how Berlin districts differ on the base of words from descriptions given by hosts. Then, I  calculated multidimensional scaling (MDS) to present the distances between the districts on 2D scatter plot."
   ]
  },
  {
   "cell_type": "code",
   "execution_count": 279,
   "metadata": {},
   "outputs": [],
   "source": [
    "# creating document-term matrix\n",
    "vectorizer = CountVectorizer(input='content')\n",
    "dtm = vectorizer.fit_transform(listings_agg['description_cleaned'])\n",
    "vocab = np.array(vectorizer.get_feature_names())\n",
    "dtm = dtm.toarray()"
   ]
  },
  {
   "cell_type": "code",
   "execution_count": 292,
   "metadata": {},
   "outputs": [
    {
     "data": {
      "image/png": "[encoded data removed]",
      "text/plain": [
       "<matplotlib.figure.Figure at 0x220a5f4f5f8>"
      ]
     },
     "metadata": {},
     "output_type": "display_data"
    }
   ],
   "source": [
    "# counting cosine similarity and drawing results with help of MDS\n",
    "dist = 1 - cosine_similarity(dtm)\n",
    "mds = MDS(n_components=2, dissimilarity=\"precomputed\", random_state=1)\n",
    "pos = mds.fit_transform(dist)\n",
    "xs, ys = pos[:, 0], pos[:, 1]\n",
    "names = listings_agg['neighbourhood_group_cleansed']\n",
    "\n",
    "\n",
    "for x, y, name in zip(xs, ys, names):\n",
    "    plt.scatter(x, y)\n",
    "    plt.text(x, y, name)\n",
    "\n",
    "fig_size = plt.rcParams[\"figure.figsize\"]\n",
    "fig_size[0] = 16\n",
    "fig_size[1] = 12\n",
    "plt.rcParams[\"figure.figsize\"] = fig_size\n",
    "plt.style.use('seaborn-white')\n",
    "plt.savefig('mapping.png', bbox_inches = 'tight')"
   ]
  },
  {
   "cell_type": "markdown",
   "metadata": {},
   "source": [
    "## What are the distinctive words for the descriptions of apartments from different districts?"
   ]
  },
  {
   "cell_type": "markdown",
   "metadata": {},
   "source": [
    "To answer the second question, I wrote the fucntion, which calculates log odds ratio allowing me to explore distinctive words for two compared districts. "
   ]
  },
  {
   "cell_type": "code",
   "execution_count": 145,
   "metadata": {},
   "outputs": [],
   "source": [
    "# function which calculates log odds ratio and draws the most distinctive words\n",
    "def log_ratio_compare(df, neighborhoods, text, words_threshold, num_words, save = True, name = 'output'):\n",
    "    \"\"\"\n",
    "    Function takes texts for two neighborhoods and calculates log-likelihood ratio for words in these texts\n",
    "\n",
    "    Arguments:\n",
    "        df: dataframe with all needed neighborhoods\n",
    "        neighborhoods: list with two neighborhoods you want to compare\n",
    "        text (str): name of the column with texts\n",
    "        words_threshold (int): all words that occur less than chosen threshold will be removed\n",
    "        num_words (int): how many distinctive words will appear in the final charts for each neighborhood\n",
    "        save (boolean): saves the final chart\n",
    "        name(str): how the chart should be called. default name is 'output'\n",
    "\n",
    "    Returns:\n",
    "        a chart with the most distinctive words for each neighborhood\n",
    "    \"\"\"    \n",
    "    # creating document-term matrix\n",
    "    listings_chosen = df[df['neighbourhood_group_cleansed'].isin(neighborhoods)]\n",
    "    labels = listings_chosen['neighbourhood_group_cleansed'].apply(lambda x: 'first' if x == neighborhoods[0]\n",
    "                                                          else 'second')\n",
    "    vectorizer = CountVectorizer(input='content')\n",
    "    dtm = vectorizer.fit_transform(listings_chosen[text])\n",
    "    vocab = np.array(vectorizer.get_feature_names())\n",
    "    dtm = dtm.toarray()\n",
    "    words = vocab[np.sum(dtm, axis = 0) > words_threshold]\n",
    "    \n",
    "    # calculating log odds ratio\n",
    "    X = dtm[:, np.in1d(vocab,words)]\n",
    "    X = X.T + 1\n",
    "    logs = np.log((X[:, labels == 'first'] / np.sum((dtm.T + 1)[:, labels == \"first\"])) /\n",
    "                  (X[:, labels == 'second'] / np.sum((dtm.T + 1)[:, labels == \"second\"]))) \n",
    "    \n",
    "    # creating a dataframe\n",
    "    df = pd.DataFrame({'words':words, 'log':logs.flatten()})\n",
    "    first = df.sort_values(by='log', ascending=True).head(num_words)\n",
    "    first['district'] = np.repeat(neighborhoods[1], num_words)\n",
    "    second = df.sort_values(by='log', ascending=False).head(num_words)\n",
    "    second['district'] = np.repeat(neighborhoods[0], num_words)\n",
    "    df = first.append(second)\n",
    "    df = df.sort_values('log')\n",
    "    \n",
    "    # drawing a plot\n",
    "    sns.set(font_scale=1.5)\n",
    "    sns.set_style(\"whitegrid\")\n",
    "    a4_dims = (11.7, 8.27)\n",
    "    fig, ax = pyplot.subplots(figsize=a4_dims)\n",
    "    ax = sns.barplot(x=\"log\", y=\"words\", hue=\"district\", data=df)\n",
    "    ax.set(xlabel='Log odds ratio', ylabel='Words')\n",
    "    ax.text(0, 0, '')\n",
    "    if save:\n",
    "        ax.figure.savefig(name + '.png')   "
   ]
  },
  {
   "cell_type": "code",
   "execution_count": 141,
   "metadata": {},
   "outputs": [
    {
     "data": {
      "image/png": "[encoded data removed]",
      "text/plain": [
       "<matplotlib.figure.Figure at 0x2ecdcf51940>"
      ]
     },
     "metadata": {},
     "output_type": "display_data"
    }
   ],
   "source": [
    "warnings.filterwarnings(\"ignore\")\n",
    "log_ratio_compare(listings_agg, ['Friedrichshain-Kreuzberg', 'Steglitz - Zehlendorf'], 'description_cleaned', 10, 15, \n",
    "               name = 'descriptions')"
   ]
  },
  {
   "cell_type": "code",
   "execution_count": 144,
   "metadata": {},
   "outputs": [
    {
     "data": {
      "text/plain": [
       "\"A clean minimal-held apartment perfect for couples and small family in the heart of Kreuzberg and Bergmannkiez, an area with a mix of old and new architecture, supermarkets and market hall, hip cafés and restaurants. Here you'll find a spacious home with high Altbau ceilings and original wooden floors, a fully equipped kitchen, washing machine, dishwasher, and Wi-Fi.   The apartment's layout and the interior furnishing is kid-friendly yet still subtle & modern. Feel free to contact me with any questions. Oliver Entire Apartment Some recommended places that are close by: Marheineke Platz (Weekend Flea Market & daily market hall) Chamisso Platz (Saturday Organic Market) Bergmannstrasse (Cafes & Restaurants) Tempelhof Airport (amazing for walks, picnics, kite surfing, etc) Victoria Park (great view over Berlin) Park am Gleisdreieck (converted rail crossing) Chapter One (great coffee) Multiple Playgrounds in the near vicinity Many public transportation options are available close by.  In p\""
      ]
     },
     "execution_count": 144,
     "metadata": {},
     "output_type": "execute_result"
    }
   ],
   "source": [
    "# looking at the context in which the words occur\n",
    "list(listings['description'][(listings['neighbourhood_group_cleansed'] == 'Friedrichshain-Kreuzberg') & \n",
    "                             (listings['description_cleaned'].str.contains('\\ship\\s', regex=True))])[1]"
   ]
  },
  {
   "cell_type": "markdown",
   "metadata": {},
   "source": [
    "## What do guests of the apartments in these districts like the most?"
   ]
  },
  {
   "cell_type": "markdown",
   "metadata": {},
   "source": [
    "In this part of the work, I, first, identified positive reviews with help of sentiment analysis and applied the function from the previous chapter to reveal how the words from positive reviews differ for two districts."
   ]
  },
  {
   "cell_type": "code",
   "execution_count": 146,
   "metadata": {},
   "outputs": [],
   "source": [
    "# employing sentiment analysis\n",
    "analyser = SentimentIntensityAnalyzer()\n",
    "\n",
    "def sentiment_analyzer_scores(sentence):\n",
    "    \"\"\"\n",
    "This function calculates sentiment score for the sentence\n",
    "\n",
    "Arguments:\n",
    "    sentence: string or Pandas series \n",
    "\n",
    "Returns:\n",
    "    sentiment score. if the score is less than 0, it means that a sentence is negative, and vice versa\n",
    "\"\"\"\n",
    "    score = analyser.polarity_scores(sentence)\n",
    "    return score.get('compound')"
   ]
  },
  {
   "cell_type": "code",
   "execution_count": 147,
   "metadata": {},
   "outputs": [],
   "source": [
    "reviews_filtered['sentiment'] = reviews_filtered['comments_cleaned'].apply(lambda x: sentiment_analyzer_scores(x)) "
   ]
  },
  {
   "cell_type": "code",
   "execution_count": 148,
   "metadata": {},
   "outputs": [],
   "source": [
    "# leaving only positive reviews\n",
    "good_reviews = reviews_filtered[(reviews_filtered['sentiment'] > 0)]"
   ]
  },
  {
   "cell_type": "code",
   "execution_count": 149,
   "metadata": {},
   "outputs": [],
   "source": [
    "# uniting positive reviews on the base of neighborhoods\n",
    "reviews_agg = good_reviews.groupby('neighbourhood_group_cleansed')['comments_cleaned'].apply(lambda x: ''.join(str(list(x)))).reset_index()"
   ]
  },
  {
   "cell_type": "code",
   "execution_count": 152,
   "metadata": {},
   "outputs": [
    {
     "data": {
      "image/png": "[encoded data removed]",
      "text/plain": [
       "<matplotlib.figure.Figure at 0x2ecb0484cc0>"
      ]
     },
     "metadata": {},
     "output_type": "display_data"
    }
   ],
   "source": [
    "# calculating log odds ratio and drawing the most distinctive words\n",
    "log_ratio_compare(reviews_agg, ['Friedrichshain-Kreuzberg', 'Steglitz - Zehlendorf'],'comments_cleaned', 10, 15, \n",
    "                name = 'reviews')"
   ]
  },
  {
   "cell_type": "code",
   "execution_count": 164,
   "metadata": {},
   "outputs": [
    {
     "data": {
      "text/plain": [
       "\"I stayed at Desiree's place for a couple of days and had a good time. The location is amazing, you can explore the alternative and creative side of Berlin and the apartment is super close to many nice places. The room was cozy, bright, stylish and warm and the landscape was unforgettable. Also Desiree was a lovely host, she was helpful and gracious in addition she definitely makes you feel at a wonderful place. I highly recommend Desiree's apartment.\""
      ]
     },
     "execution_count": 164,
     "metadata": {},
     "output_type": "execute_result"
    }
   ],
   "source": [
    "# looking at the context in which the words occur\n",
    "list(good_reviews['comments'][(good_reviews['neighbourhood_group_cleansed'] == 'Friedrichshain-Kreuzberg') & \n",
    "                             (good_reviews['comments_cleaned'].str.contains('\\screative\\s', regex = True))])[2]"
   ]
  },
  {
   "cell_type": "markdown",
   "metadata": {},
   "source": [
    "# Results evaluation\n",
    "\n",
    "Due to such type of analysis, renters can follow how the processes of supply and demand work on AirBnB market. For more detailed exploration, it would be interesting to study how word usage changes depending on different seasons or compare negative and positive reviews. Also, one interesting challenge is to work with different languages as the reviews and descriptions are not always written in English. For this research, all non-English texts were removed, but I expect we could find more interesting results if we would include all the languages. It assumes more efforts from the side of a data analyst, as all the texts should be translated into one language for a proper comparison."
   ]
  }
 ],
 "metadata": {
  "kernelspec": {
   "display_name": "Python 3",
   "language": "python",
   "name": "python3"
  },
  "language_info": {
   "codemirror_mode": {
    "name": "ipython",
    "version": 3
   },
   "file_extension": ".py",
   "mimetype": "text/x-python",
   "name": "python",
   "nbconvert_exporter": "python",
   "pygments_lexer": "ipython3",
   "version": "3.6.1"
  }
 },
 "nbformat": 4,
 "nbformat_minor": 2
}
